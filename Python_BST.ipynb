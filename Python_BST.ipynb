{
  "nbformat": 4,
  "nbformat_minor": 0,
  "metadata": {
    "colab": {
      "name": "Python BST",
      "provenance": [],
      "authorship_tag": "ABX9TyN4uWwECprbc3O5ZFfKwRPi"
    },
    "kernelspec": {
      "name": "python3",
      "display_name": "Python 3"
    },
    "language_info": {
      "name": "python"
    }
  },
  "cells": [
    {
      "cell_type": "code",
      "metadata": {
        "colab": {
          "base_uri": "https://localhost:8080/"
        },
        "id": "GbuarjfPRQt3",
        "outputId": "67bc90ab-8360-4d6a-ada0-f8d1eb85690d"
      },
      "source": [
        "class Tree:\n",
        "  def __init__(self, data, left=None, right=None):\n",
        "\n",
        "\n",
        "    self.data = data\n",
        "    self.left = left \n",
        "    self.right = right\n",
        "\n",
        "\n",
        "  def insert(self, data):\n",
        "    if self.data == data:\n",
        "      return False \n",
        "    elif self.data > data:\n",
        "      if self.left is not None:\n",
        "        return self.left.insert(data)\n",
        "      else:\n",
        "        self.left = Tree(data)\n",
        "        return True\n",
        "    else:\n",
        "      if self.right is not None:\n",
        "        return self.right.insert(data)\n",
        "      else:\n",
        "        self.right = Tree(data)\n",
        "        return True \n",
        "\n",
        "\n",
        "\n",
        "  def find(self, data):\n",
        "    if self.data == data:\n",
        "      return data\n",
        "    elif self.data > data:\n",
        "      if self.left is None:\n",
        "        return False\n",
        "      else:\n",
        "        return self.left.find(data)\n",
        "    elif self.data < data:\n",
        "      if self.right is None:\n",
        "        return False\n",
        "      else:\n",
        "        return self.right.find(data)\n",
        "\n",
        "\n",
        "  def get_size(self):\n",
        "    if self.left is not None and self.right is not None: \n",
        "      return 1 + self.left.get_size() + self.right.get_size()\n",
        "    elif self.left:\n",
        "      return 1 + self.left.get_size()\n",
        "    elif self.right:\n",
        "        return 1 + self.right.get_size()\n",
        "    else:\n",
        "      return 1\n",
        "\n",
        "\n",
        "  def preorder(self):\n",
        "    if self is not None:\n",
        "      print(self.data, end=' ')\n",
        "      if self.left is not None:\n",
        "        self.left.preorder()\n",
        "      if self.right:\n",
        "        self.right.preorder()\n",
        "\n",
        "  def inorder(self):\n",
        "    if self is not None:\n",
        "      if self.left is not None:\n",
        "        self.left.inorder()\n",
        "      print(self.data, end=' ')\n",
        "      if self.right is not None:\n",
        "        self.right.inorder()\n",
        "\n",
        "\n",
        "\n",
        "\n",
        "\n",
        "tree = Tree(7)\n",
        "tree.insert(9)\n",
        "\n",
        "\n",
        "for i in range(10):\n",
        "  tree.insert(i+1)\n",
        "\n",
        "for i in range(10):\n",
        "  print(tree.find(i), end=' ')\n",
        "\n",
        "\n",
        "    \n",
        "\n",
        "  \n"
      ],
      "execution_count": 9,
      "outputs": [
        {
          "output_type": "stream",
          "name": "stdout",
          "text": [
            "False 1 2 3 4 5 6 7 8 9 "
          ]
        }
      ]
    }
  ]
}